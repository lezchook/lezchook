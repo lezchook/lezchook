{
  "nbformat": 4,
  "nbformat_minor": 0,
  "metadata": {
    "colab": {
      "name": "Копия блокнота \"Lab1\"",
      "provenance": [],
      "collapsed_sections": [],
      "include_colab_link": true
    },
    "kernelspec": {
      "display_name": "Python 3",
      "language": "python",
      "name": "python3"
    },
    "language_info": {
      "codemirror_mode": {
        "name": "ipython",
        "version": 3
      },
      "file_extension": ".py",
      "mimetype": "text/x-python",
      "name": "python",
      "nbconvert_exporter": "python",
      "pygments_lexer": "ipython3",
      "version": "3.7.4"
    }
  },
  "cells": [
    {
      "cell_type": "markdown",
      "metadata": {
        "id": "view-in-github",
        "colab_type": "text"
      },
      "source": [
        "<a href=\"https://colab.research.google.com/github/lezchook/lezchook/blob/main/%D0%9A%D0%BE%D0%BF%D0%B8%D1%8F_%D0%B1%D0%BB%D0%BE%D0%BA%D0%BD%D0%BE%D1%82%D0%B0_%22Lab1%22.ipynb\" target=\"_parent\"><img src=\"https://colab.research.google.com/assets/colab-badge.svg\" alt=\"Open In Colab\"/></a>"
      ]
    },
    {
      "cell_type": "markdown",
      "metadata": {
        "id": "BsNwjQDRfmLY"
      },
      "source": [
        "# Задание 1 (numpy + matplotlib)"
      ]
    },
    {
      "cell_type": "markdown",
      "metadata": {
        "id": "wu6r1-s7fmLe"
      },
      "source": [
        "---"
      ]
    },
    {
      "cell_type": "markdown",
      "metadata": {
        "id": "zxRIdPO9gYyX"
      },
      "source": [
        "Напишите программу, которая будет решать систему линейных уравнений вида:\n",
        "\n",
        "\\begin{matrix} a_{11}x+a_{12}y=b_{1}&(1) \\\\ a_{21}x+a_{22}y=b_{2} &(2) \\end{matrix}\n",
        "​\t\n",
        "* На вход программа должна принимать 2 строки (т.е. должен быть реализован ввод с клавиатуры). Каждая строка содержит 3 действительных числа через пробел: коэффициенты a и b.\n",
        "* Систему уравнений необходимо решить матричным способом. Предусмотрите случаи, когда решения есть, решений нет, решений бесконечно много. Выведите ответ. Покажите решение на графике. Если решения есть, постройте график и точкой отметьте решение (если оно одно, например, функцией [`scatter`](https://matplotlib.org/stable/api/_as_gen/matplotlib.pyplot.scatter.html))."
      ]
    },
    {
      "cell_type": "code",
      "metadata": {
        "id": "6sxlcLbVlrjl",
        "colab": {
          "base_uri": "https://localhost:8080/",
          "height": 316
        },
        "outputId": "fa874515-4e6c-4034-da08-f34c9c3d9123"
      },
      "source": [
        "from sympy import *\n",
        "import numpy as np\n",
        "import matplotlib.pyplot as plt\n",
        "\n",
        "a = input().split()\n",
        "b = input().split()\n",
        "M = np.matrix([[a[0], a[1]], [b[0], b[1]]], dtype='float')\n",
        "v = np.array([a[2], b[2]], dtype='float')\n",
        "c = Matrix([[a[0], a[1], a[2]], [b[0], b[1], b[2]]])\n",
        "if np.linalg.det(M) == 0:\n",
        "  if c.rref()[0][4] == 0 and c.rref()[0][5] == 1:\n",
        "    print('Нет решений')\n",
        "    x1 = np.linspace(-3, 3, 100)\n",
        "    y1 = (c[2]-c[0]*x1)/c[1]\n",
        "    y2 = (c[5]-c[3]*x1)/c[4]\n",
        "    fig, ax = plt.subplots()\n",
        "    plt.plot(x1, y1)\n",
        "    plt.plot(x1, y2)\n",
        "    plt.show() \n",
        "  else:\n",
        "    print('Решений бесконечно много')\n",
        "    x = np.linspace(-3, 3, 100)\n",
        "    y = (c.rref()[0][2] - c.rref()[0][0])/c.rref()[0][1] * x\n",
        "    fig = plt.subplots()\n",
        "    plt.plot(x, y)\n",
        "    plt.show() \n",
        "else:\n",
        "  x = np.linalg.solve(M, v)[0]\n",
        "  y = np.linalg.solve(M, v)[1]\n",
        "  xf = np.linspace(-100, 100, 100)\n",
        "  yf = np.linalg.solve(M, v)[1] + xf * 0\n",
        "  yg = np.linspace(-100, 100, 100)\n",
        "  xg = np.linalg.solve(M, v)[0] + yg * 0\n",
        "  fig, ax = plt.subplots()\n",
        "  plt.plot(xf, yf)\n",
        "  plt.plot(xg, yg)\n",
        "  ax.scatter(x, y, c = 'black')\n",
        "  print(np.linalg.solve(M, v))\n",
        "  plt.show() \n"
      ],
      "execution_count": null,
      "outputs": [
        {
          "output_type": "stream",
          "name": "stdout",
          "text": [
            "5 5 30\n",
            "1 1 5\n",
            "Нет решений\n"
          ]
        },
        {
          "output_type": "display_data",
          "data": {
            "image/png": "[encoded data removed]",
            "text/plain": [
              "<Figure size 432x288 with 1 Axes>"
            ]
          },
          "metadata": {
            "needs_background": "light"
          }
        }
      ]
    },
    {
      "cell_type": "markdown",
      "metadata": {
        "id": "efml9GzISC9Q"
      },
      "source": [
        "# Задание 2 (pytorch + matplotlib)"
      ]
    },
    {
      "cell_type": "markdown",
      "metadata": {
        "id": "_hy7PFz031Wx"
      },
      "source": [
        "Пусть $f(x) = \\sin(x) * x$. Постройте график $f(x)$ и $\\frac{df(x)}{dx}$, для расчета производных воспользуйтесь методом `backward()` и matplotlib для построения графиков."
      ]
    },
    {
      "cell_type": "code",
      "metadata": {
        "id": "GPjLHMGNK_oG"
      },
      "source": [
        "# PUT YOUR CODE HERE"
      ],
      "execution_count": null,
      "outputs": []
    }
  ]
}